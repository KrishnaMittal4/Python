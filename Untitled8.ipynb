{
  "nbformat": 4,
  "nbformat_minor": 0,
  "metadata": {
    "colab": {
      "provenance": []
    },
    "kernelspec": {
      "name": "python3",
      "display_name": "Python 3"
    },
    "language_info": {
      "name": "python"
    }
  },
  "cells": [
    {
      "cell_type": "markdown",
      "source": [
        "Write a program to print Multiplication table of n terms\n"
      ],
      "metadata": {
        "id": "bmGtudw8oFao"
      }
    },
    {
      "cell_type": "code",
      "execution_count": null,
      "metadata": {
        "colab": {
          "base_uri": "https://localhost:8080/"
        },
        "id": "QP6wT-cQmVXX",
        "outputId": "992ad1a7-29f0-4db3-b94b-d01b10e66ca1"
      },
      "outputs": [
        {
          "output_type": "stream",
          "name": "stdout",
          "text": [
            "Enter your number = 10\n",
            "Multiplication table *********************\n",
            "10 x 1 = 10\n",
            "10 x 2 = 20\n",
            "10 x 3 = 30\n",
            "10 x 4 = 40\n",
            "10 x 5 = 50\n",
            "10 x 6 = 60\n",
            "10 x 7 = 70\n",
            "10 x 8 = 80\n",
            "10 x 9 = 90\n",
            "10 x 10 = 100\n"
          ]
        }
      ],
      "source": [
        "\n",
        "n = int(input(\"Enter your number = \"))\n",
        "print(\"Multiplication table *********************\")\n",
        "for i in range(1, 11):\n",
        "  print(n, \"x\", i, \"=\", n * i)\n",
        "\n"
      ]
    },
    {
      "cell_type": "markdown",
      "source": [
        "Write a program to find whether a given number is amstrong number  or not"
      ],
      "metadata": {
        "id": "A33UKpnxq_la"
      }
    },
    {
      "cell_type": "code",
      "source": [
        "n=int(input(\"enter your number \"))\n",
        "s=0\n",
        "num=n\n",
        "while n>0:\n",
        "  r=n%10\n",
        "  s=s+ r**3\n",
        "  n=n//10\n",
        "if(s==num):\n",
        "  print(\"It is a amstrong number \")\n",
        "else:\n",
        "  print(\"It is not a amstrong number \")"
      ],
      "metadata": {
        "colab": {
          "base_uri": "https://localhost:8080/"
        },
        "id": "5E7A6s4UoaE3",
        "outputId": "abde05f7-3a7e-43c1-dcb3-3992e79df832"
      },
      "execution_count": null,
      "outputs": [
        {
          "output_type": "stream",
          "name": "stdout",
          "text": [
            "enter your number 153\n",
            "It is a amstrong number \n"
          ]
        }
      ]
    }
  ]
}