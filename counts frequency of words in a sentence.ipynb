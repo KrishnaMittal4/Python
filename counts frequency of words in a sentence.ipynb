{
  "nbformat": 4,
  "nbformat_minor": 0,
  "metadata": {
    "colab": {
      "provenance": []
    },
    "kernelspec": {
      "name": "python3",
      "display_name": "Python 3"
    },
    "language_info": {
      "name": "python"
    }
  },
  "cells": [
    {
      "cell_type": "markdown",
      "source": [
        "write a python program that takes sentence as input and returns how many characters in the sentence\n",
        "calculate frequency of each word in a sentence"
      ],
      "metadata": {
        "id": "wLyP26W8l0DH"
      }
    },
    {
      "cell_type": "code",
      "source": [
        "def count_characters(sentence):\n",
        "    return len(sentence)\n",
        "\n",
        "def wordfrequency(sentence):\n",
        "    words = sentence.split()\n",
        "    freq = {}\n",
        "    for word in words:\n",
        "        if word in freq:\n",
        "            freq[word] += 1\n",
        "        else:\n",
        "            freq[word] = 1\n",
        "    return freq\n",
        "\n",
        "a = \"hello world hello world lets learn python\"\n",
        "b = count_characters(a)\n",
        "print(\"There are \",b,\"characters in the sentence\")\n",
        "\n",
        "c = wordfrequency(a)\n",
        "print(c)\n"
      ],
      "metadata": {
        "colab": {
          "base_uri": "https://localhost:8080/"
        },
        "id": "eXNXPioqoMBk",
        "outputId": "ebd58412-4302-43dd-cb55-fb12cc6aa6f2"
      },
      "execution_count": 4,
      "outputs": [
        {
          "output_type": "stream",
          "name": "stdout",
          "text": [
            "There are  41 characters in the sentence\n",
            "{'hello': 2, 'world': 2, 'lets': 1, 'learn': 1, 'python': 1}\n"
          ]
        }
      ]
    }
  ]
}