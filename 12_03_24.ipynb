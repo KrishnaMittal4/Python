{
  "nbformat": 4,
  "nbformat_minor": 0,
  "metadata": {
    "colab": {
      "provenance": [],
      "include_colab_link": true
    },
    "kernelspec": {
      "name": "python3",
      "display_name": "Python 3"
    },
    "language_info": {
      "name": "python"
    }
  },
  "cells": [
    {
      "cell_type": "markdown",
      "metadata": {
        "id": "view-in-github",
        "colab_type": "text"
      },
      "source": [
        "<a href=\"https://colab.research.google.com/github/KrishnaMittal4/Python/blob/main/12_03_24.ipynb\" target=\"_parent\"><img src=\"https://colab.research.google.com/assets/colab-badge.svg\" alt=\"Open In Colab\"/></a>"
      ]
    },
    {
      "cell_type": "code",
      "execution_count": null,
      "metadata": {
        "colab": {
          "base_uri": "https://localhost:8080/"
        },
        "id": "2_HaDzaZMrB0",
        "outputId": "0c379dfc-41ad-41b7-85f2-5409b2e99db2"
      },
      "outputs": [
        {
          "output_type": "stream",
          "name": "stdout",
          "text": [
            "ERROR! division by zero\n"
          ]
        }
      ],
      "source": [
        "def div(m,n):\n",
        "  try:\n",
        "    return m/n\n",
        "  except Exception as e:\n",
        "    print(\"ERROR!\",e)\n",
        "\n",
        "div(10,0)"
      ]
    },
    {
      "cell_type": "code",
      "source": [
        "b=int(input(\"Enter number:\"))"
      ],
      "metadata": {
        "colab": {
          "base_uri": "https://localhost:8080/"
        },
        "id": "xWm2kvF0RHyO",
        "outputId": "1ba956f1-0d31-42f3-ba79-ee5e0ce8b725"
      },
      "execution_count": null,
      "outputs": [
        {
          "name": "stdout",
          "output_type": "stream",
          "text": [
            "Enter number:10\n"
          ]
        }
      ]
    },
    {
      "cell_type": "code",
      "source": [
        "def sum(a,b):\n",
        "  try:\n",
        "    print(\"file open\")\n",
        "    c=a+b\n",
        "    return c\n",
        "  except Exception:\n",
        "    print(\"Something is not Correct!\")\n",
        "  finally:\n",
        "    print(\"File Closed!\")\n",
        "\n",
        "a=int(input(\"Enter number 1:\"))\n",
        "b=int(input(\"Enter number 2:\"))\n",
        "sum(a,b)\n"
      ],
      "metadata": {
        "colab": {
          "base_uri": "https://localhost:8080/"
        },
        "id": "vgElTMoeS3yL",
        "outputId": "1ad407d6-30c0-4bb6-cc7f-fa7816930862"
      },
      "execution_count": null,
      "outputs": [
        {
          "output_type": "stream",
          "name": "stdout",
          "text": [
            "Enter number 1:10\n",
            "Enter number 2:20\n",
            "file open\n",
            "File Closed!\n"
          ]
        },
        {
          "output_type": "execute_result",
          "data": {
            "text/plain": [
              "30"
            ]
          },
          "metadata": {},
          "execution_count": 4
        }
      ]
    },
    {
      "cell_type": "code",
      "source": [
        "class Car:            #Class is a blueprint.\n",
        "  def car_speed(self):         #or none\n",
        "    print(\"Speed of the car is 80mph.\")\n",
        "  def car_variant(self):       # or none\n",
        "    print(\"Diesel and Turbo.\")\n",
        "\n",
        "A=Car()      #Car() is an object and we assign a reference of it to A, or an instance of Car() to A.\n",
        "A.car_speed()"
      ],
      "metadata": {
        "colab": {
          "base_uri": "https://localhost:8080/"
        },
        "id": "HP8SUrqtUeja",
        "outputId": "b4238e66-29ab-410d-8b13-d7512ebe0dac"
      },
      "execution_count": null,
      "outputs": [
        {
          "output_type": "stream",
          "name": "stdout",
          "text": [
            "Speed of the car is 80mph.\n"
          ]
        }
      ]
    }
  ]
}