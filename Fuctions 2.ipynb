{
  "nbformat": 4,
  "nbformat_minor": 0,
  "metadata": {
    "colab": {
      "provenance": []
    },
    "kernelspec": {
      "name": "python3",
      "display_name": "Python 3"
    },
    "language_info": {
      "name": "python"
    }
  },
  "cells": [
    {
      "cell_type": "markdown",
      "source": [
        "Write a function to find factorial of a number"
      ],
      "metadata": {
        "id": "B44fQn-eS3iG"
      }
    },
    {
      "cell_type": "code",
      "execution_count": 20,
      "metadata": {
        "colab": {
          "base_uri": "https://localhost:8080/"
        },
        "id": "iUMhwiXSHgIQ",
        "outputId": "34ee4149-f7e7-4c60-9c3e-53593e894c92"
      },
      "outputs": [
        {
          "output_type": "stream",
          "name": "stdout",
          "text": [
            "120\n"
          ]
        }
      ],
      "source": [
        "def factorial(num):\n",
        "  fact=1\n",
        "  if(num==0 | num==1):\n",
        "    return 1\n",
        "  else:\n",
        "    for i in range(2,num+1):\n",
        "      fact=fact*i\n",
        "    print(fact)\n",
        "\n",
        "\n",
        "factorial(5)\n",
        "\n",
        "\n",
        "\n"
      ]
    },
    {
      "cell_type": "markdown",
      "source": [
        "Write a program to find fibonnaci series of a number"
      ],
      "metadata": {
        "id": "P3t5G_tqQxLT"
      }
    },
    {
      "cell_type": "code",
      "source": [
        "def fibo(n):\n",
        "  a=0\n",
        "  b=1\n",
        "  c=0\n",
        "  print(a,b,end=\" \")\n",
        "  for i in range(2,n+1):\n",
        "    c=a+b\n",
        "    print(c,end=\" \")\n",
        "    a=b\n",
        "    b=c\n",
        "\n",
        "fibo(5)\n",
        "\n",
        "\n"
      ],
      "metadata": {
        "colab": {
          "base_uri": "https://localhost:8080/"
        },
        "id": "Zdjv7pWsMMhY",
        "outputId": "1e75d053-d845-4210-ff31-fbcdedc9dc44"
      },
      "execution_count": 51,
      "outputs": [
        {
          "output_type": "stream",
          "name": "stdout",
          "text": [
            "0 1 1 2 3 5 "
          ]
        }
      ]
    },
    {
      "cell_type": "markdown",
      "source": [
        "write a function to check whether a number is prime and even"
      ],
      "metadata": {
        "id": "Y968Z8egN8Vg"
      }
    },
    {
      "cell_type": "code",
      "source": [
        "def prime(n):\n",
        "  m=1\n",
        "  if(n==2):\n",
        "    print(\"it is a prime number as well as even and prime \")\n",
        "  elif(n==1 or n==0):\n",
        "    print(\"it is not a prime number\")\n",
        "  else:\n",
        "    for i in range(2,n):\n",
        "      if(n%i==0):\n",
        "        m=0\n",
        "        break\n",
        "    if(m==0):\n",
        "      print(\"it is not a prime number \")\n",
        "    else:\n",
        "      print(\"it is a prime number \")\n",
        "prime(1)\n",
        "\n",
        "\n"
      ],
      "metadata": {
        "colab": {
          "base_uri": "https://localhost:8080/"
        },
        "id": "K_Qw1x28OIYv",
        "outputId": "7a1d65cd-b708-487b-d4f9-fb30a3513dae"
      },
      "execution_count": 46,
      "outputs": [
        {
          "output_type": "stream",
          "name": "stdout",
          "text": [
            "it is not a prime number\n"
          ]
        }
      ]
    },
    {
      "cell_type": "markdown",
      "source": [
        "write a program of fibonnaci series by using recursive function"
      ],
      "metadata": {
        "id": "YfBL2PMgXECh"
      }
    },
    {
      "cell_type": "code",
      "source": [
        "def fibo(n,n1=0,n2=1):\n",
        "  if(n==0):\n",
        "    return [n1]\n",
        "  elif n==1:\n",
        "    return [n1]\n",
        "  else:\n",
        "    return [n1] +fibo(n-1,n2,n1+n2)\n",
        "a=fibo(5)\n",
        "print(a)\n"
      ],
      "metadata": {
        "colab": {
          "base_uri": "https://localhost:8080/"
        },
        "id": "KEsIeauhS1av",
        "outputId": "7786716b-c8c1-4762-f501-cc1fd319e48d"
      },
      "execution_count": 61,
      "outputs": [
        {
          "output_type": "stream",
          "name": "stdout",
          "text": [
            "[0, 1, 1, 2, 3]\n"
          ]
        }
      ]
    }
  ]
}