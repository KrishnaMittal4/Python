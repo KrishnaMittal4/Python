{
  "nbformat": 4,
  "nbformat_minor": 0,
  "metadata": {
    "colab": {
      "provenance": [],
      "authorship_tag": "ABX9TyPg2dpLCQn2UuxF5r4bM7E+",
      "include_colab_link": true
    },
    "kernelspec": {
      "name": "python3",
      "display_name": "Python 3"
    },
    "language_info": {
      "name": "python"
    }
  },
  "cells": [
    {
      "cell_type": "markdown",
      "metadata": {
        "id": "view-in-github",
        "colab_type": "text"
      },
      "source": [
        "<a href=\"https://colab.research.google.com/github/krishnamitttal/Python/blob/main/class__14_02_2024.ipynb\" target=\"_parent\"><img src=\"https://colab.research.google.com/assets/colab-badge.svg\" alt=\"Open In Colab\"/></a>"
      ]
    },
    {
      "cell_type": "markdown",
      "source": [
        "#Write a program to calculate the roots of a quadratic equation."
      ],
      "metadata": {
        "id": "jBx2-NaLTFaV"
      }
    },
    {
      "cell_type": "code",
      "execution_count": null,
      "metadata": {
        "colab": {
          "base_uri": "https://localhost:8080/"
        },
        "id": "IOeKR_CBQoAO",
        "outputId": "a747a817-95ec-43b4-f7dd-51eb209dccdf"
      },
      "outputs": [
        {
          "output_type": "stream",
          "name": "stdout",
          "text": [
            "imaginary roots\n"
          ]
        }
      ],
      "source": [
        "import math\n",
        "\n",
        "def fun(a, b, c):\n",
        "    d = b**2 - 4*a*c\n",
        "    x = 0\n",
        "    y = 0\n",
        "    if d < 0:\n",
        "        print(\"imaginary roots\")\n",
        "    elif(d==0):\n",
        "      print(\"equal roots \")\n",
        "      x=-b/2*a\n",
        "      print(x)\n",
        "    else:\n",
        "      print(\"real roots\")\n",
        "      x = (-b + math.sqrt(d)) / (2*a)\n",
        "      y = (-b - math.sqrt(d)) / (2*a)\n",
        "      print(x, y)\n",
        "\n",
        "fun(10, 20, 30)\n",
        "\n",
        "\n"
      ]
    },
    {
      "cell_type": "markdown",
      "source": [
        "#Write a program to pass dictionary to a function.Name,sap,department,Batch for 5 entries"
      ],
      "metadata": {
        "id": "ePSiP26-TUFV"
      }
    },
    {
      "cell_type": "code",
      "source": [
        "def display_student_details(student_data):\n",
        "\n",
        "    for key, value in student_data.items():\n",
        "        print(f\"{key.capitalize()}: {value}\")\n",
        "\n",
        "\n",
        "students = [\n",
        "    {\"name\": \"Alice\", \"sap\": \"123456\", \"department\": \"CSE\", \"batch\": \"2023\"},\n",
        "    {\"name\": \"bobby\", \"sap\": \"654321\", \"department\": \"ECE\", \"batch\": \"2022\"},\n",
        "    {\"name\": \"sagar\", \"sap\": \"987654\", \"department\": \"IT\", \"batch\": \"2021\"},\n",
        "    {\"name\": \"akarsh\", \"sap\": \"321098\", \"department\": \"ME\", \"batch\": \"2020\"},\n",
        "    {\"name\": \"jagriti\", \"sap\": \"789012\", \"department\": \"CE\", \"batch\": \"2019\"},\n",
        "]\n",
        "for student in students:\n",
        "    display_student_details(student)\n",
        "    print()"
      ],
      "metadata": {
        "colab": {
          "base_uri": "https://localhost:8080/"
        },
        "id": "lZBDFmlBTJFD",
        "outputId": "76455f5f-8818-4c8d-a1e3-23a6c6a50c6d"
      },
      "execution_count": null,
      "outputs": [
        {
          "output_type": "stream",
          "name": "stdout",
          "text": [
            "Name: Alice\n",
            "Sap: 123456\n",
            "Department: CSE\n",
            "Batch: 2023\n",
            "\n",
            "Name: bobby\n",
            "Sap: 654321\n",
            "Department: ECE\n",
            "Batch: 2022\n",
            "\n",
            "Name: sagar\n",
            "Sap: 987654\n",
            "Department: IT\n",
            "Batch: 2021\n",
            "\n",
            "Name: akarsh\n",
            "Sap: 321098\n",
            "Department: ME\n",
            "Batch: 2020\n",
            "\n",
            "Name: jagriti\n",
            "Sap: 789012\n",
            "Department: CE\n",
            "Batch: 2019\n",
            "\n"
          ]
        }
      ]
    }
  ]
}