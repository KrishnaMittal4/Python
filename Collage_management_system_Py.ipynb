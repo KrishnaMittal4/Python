{
  "nbformat": 4,
  "nbformat_minor": 0,
  "metadata": {
    "colab": {
      "provenance": [],
      "authorship_tag": "ABX9TyN/xMn9I21OmJQ8RgjZX7sp",
      "include_colab_link": true
    },
    "kernelspec": {
      "name": "python3",
      "display_name": "Python 3"
    },
    "language_info": {
      "name": "python"
    }
  },
  "cells": [
    {
      "cell_type": "markdown",
      "metadata": {
        "id": "view-in-github",
        "colab_type": "text"
      },
      "source": [
        "<a href=\"https://colab.research.google.com/github/KrishnaMittal4/Python/blob/main/Collage_management_system_Py.ipynb\" target=\"_parent\"><img src=\"https://colab.research.google.com/assets/colab-badge.svg\" alt=\"Open In Colab\"/></a>"
      ]
    },
    {
      "cell_type": "code",
      "execution_count": null,
      "metadata": {
        "id": "E7yvQ0FhbiyC"
      },
      "outputs": [],
      "source": [
        "\n",
        "students = []\n",
        "def add_student():\n",
        "    name = input(\"Enter student's name: \")\n",
        "    roll_no = input(\"Enter student's roll number: \")\n",
        "    department = input(\"Enter student's department: \")\n",
        "    student = {\"name\": name, \"roll_no\": roll_no, \"department\": department}\n",
        "    students.append(student)\n",
        "    print(f\"{name} added to the system.\")\n",
        "\n",
        "def remove_student():\n",
        "    roll_no = input(\"Enter roll number of student to remove: \")\n",
        "    for student in students:\n",
        "        if student[\"roll_no\"] == roll_no:\n",
        "            students.remove(student)\n",
        "            print(f\"Student with roll number {roll_no} removed.\")\n",
        "            return\n",
        "    print(f\"Student with roll number {roll_no} not found in the system.\")\n",
        "\n",
        "def display_students():\n",
        "    print(\"List of students:\")\n",
        "    for student in students:\n",
        "        print(f\"Name: {student['name']}, Roll No: {student['roll_no']}, Department: {student['department']}\")\n",
        "while True:\n",
        "    print(\"\\nCollage Management System Menu:\")\n",
        "    print(\"1. Add Student\")\n",
        "    print(\"2. Remove Student\")\n",
        "    print(\"3. Display Students\")\n",
        "    print(\"4. Exit\")\n",
        "\n",
        "    choice = input(\"Enter your choice: \")\n",
        "\n",
        "    if choice == \"1\":\n",
        "        add_student()\n",
        "    elif choice == \"2\":\n",
        "        remove_student()\n",
        "    elif choice == \"3\":\n",
        "        display_students()\n",
        "    elif choice == \"4\":\n",
        "        print(\"Exiting program...\")\n",
        "        break\n",
        "    else:\n",
        "        print(\"Invalid choice. Please enter a valid option.\")"
      ]
    }
  ]
}