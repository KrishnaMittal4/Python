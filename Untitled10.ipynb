{
  "nbformat": 4,
  "nbformat_minor": 0,
  "metadata": {
    "colab": {
      "provenance": [],
      "toc_visible": true
    },
    "kernelspec": {
      "name": "python3",
      "display_name": "Python 3"
    },
    "language_info": {
      "name": "python"
    }
  },
  "cells": [
    {
      "cell_type": "code",
      "source": [
        "list_1= []\n",
        "for i in range(1,41):\n",
        "  if(i%2!=0):\n",
        "    list_1.append(i)\n",
        "print(list_1)\n"
      ],
      "metadata": {
        "colab": {
          "base_uri": "https://localhost:8080/"
        },
        "id": "_fHRIsJVgsnF",
        "outputId": "4b0ae555-e601-4240-f797-98ac16b93c9f"
      },
      "execution_count": 22,
      "outputs": [
        {
          "output_type": "stream",
          "name": "stdout",
          "text": [
            "[1, 3, 5, 7, 9, 11, 13, 15, 17, 19, 21, 23, 25, 27, 29, 31, 33, 35, 37, 39]\n"
          ]
        }
      ]
    },
    {
      "cell_type": "markdown",
      "source": [
        "Write a program to print numbers in a list and prints it is even or odd"
      ],
      "metadata": {
        "id": "YLhLn3z8np4H"
      }
    },
    {
      "cell_type": "code",
      "source": [
        "list=[]\n",
        "for i in range(1,21):\n",
        "  list.append(i)\n",
        "print(list)\n",
        "\n",
        "for i in range(1,21):\n",
        "  if i%2==0:\n",
        "    print(i,\" ,It is an even number \")\n",
        "  else:\n",
        "    print(i,\", It is a odd number \")\n",
        "\n",
        "\n",
        "\n",
        "\n",
        "\n"
      ],
      "metadata": {
        "colab": {
          "base_uri": "https://localhost:8080/"
        },
        "id": "NC9DQTJrrR9V",
        "outputId": "dacd8736-7159-4933-9f3e-00dd48f79a3a"
      },
      "execution_count": null,
      "outputs": [
        {
          "output_type": "stream",
          "name": "stdout",
          "text": [
            "[1, 2, 3, 4, 5, 6, 7, 8, 9, 10, 11, 12, 13, 14, 15, 16, 17, 18, 19, 20]\n",
            "1 , It is a odd number \n",
            "2  ,It is an even number \n",
            "3 , It is a odd number \n",
            "4  ,It is an even number \n",
            "5 , It is a odd number \n",
            "6  ,It is an even number \n",
            "7 , It is a odd number \n",
            "8  ,It is an even number \n",
            "9 , It is a odd number \n",
            "10  ,It is an even number \n",
            "11 , It is a odd number \n",
            "12  ,It is an even number \n",
            "13 , It is a odd number \n",
            "14  ,It is an even number \n",
            "15 , It is a odd number \n",
            "16  ,It is an even number \n",
            "17 , It is a odd number \n",
            "18  ,It is an even number \n",
            "19 , It is a odd number \n",
            "20  ,It is an even number \n"
          ]
        }
      ]
    },
    {
      "cell_type": "markdown",
      "source": [
        "Extract letters from string welcome to the  world of python and put them in a list"
      ],
      "metadata": {
        "id": "TeeHnll3nUmB"
      }
    },
    {
      "cell_type": "code",
      "source": [
        "\n",
        "str1=\"welcome to the world of python\"\n",
        "list_1=[i for i in str1]\n",
        "print(list_1)\n",
        "\n"
      ],
      "metadata": {
        "colab": {
          "base_uri": "https://localhost:8080/"
        },
        "id": "7Fk4XAlgvSF1",
        "outputId": "755bc92f-0767-46a6-eba0-b54048d51344"
      },
      "execution_count": null,
      "outputs": [
        {
          "output_type": "stream",
          "name": "stdout",
          "text": [
            "['w', 'e', 'l', 'c', 'o', 'm', 'e', ' ', 't', 'o', ' ', 't', 'h', 'e', ' ', 'w', 'o', 'r', 'l', 'd', ' ', 'o', 'f', ' ', 'p', 'y', 't', 'h', 'o', 'n']\n"
          ]
        }
      ]
    },
    {
      "cell_type": "markdown",
      "source": [
        "Write a program to create a tuple and add values of your choice and print the value using for loop\n"
      ],
      "metadata": {
        "id": "pPbuFmA_nZ63"
      }
    },
    {
      "cell_type": "code",
      "source": [
        "mytuple = ('hello', 'how', 'are', 'you')\n",
        "for i in range(len(mytuple)):\n",
        "    print(mytuple[i])\n"
      ],
      "metadata": {
        "id": "UC6Mz-KqwlOc",
        "colab": {
          "base_uri": "https://localhost:8080/"
        },
        "outputId": "39aa664e-48e8-44a8-d6e2-0f52b07f6b92"
      },
      "execution_count": null,
      "outputs": [
        {
          "output_type": "stream",
          "name": "stdout",
          "text": [
            "hello\n",
            "how\n",
            "are\n",
            "you\n"
          ]
        }
      ]
    }
  ]
}