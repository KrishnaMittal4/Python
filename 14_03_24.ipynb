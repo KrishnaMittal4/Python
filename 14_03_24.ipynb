{
  "nbformat": 4,
  "nbformat_minor": 0,
  "metadata": {
    "colab": {
      "provenance": [],
      "include_colab_link": true
    },
    "kernelspec": {
      "name": "python3",
      "display_name": "Python 3"
    },
    "language_info": {
      "name": "python"
    }
  },
  "cells": [
    {
      "cell_type": "markdown",
      "metadata": {
        "id": "view-in-github",
        "colab_type": "text"
      },
      "source": [
        "<a href=\"https://colab.research.google.com/github/KrishnaMittal4/Python/blob/main/14_03_24.ipynb\" target=\"_parent\"><img src=\"https://colab.research.google.com/assets/colab-badge.svg\" alt=\"Open In Colab\"/></a>"
      ]
    },
    {
      "cell_type": "code",
      "execution_count": 4,
      "metadata": {
        "colab": {
          "base_uri": "https://localhost:8080/"
        },
        "id": "BbUIgPHXwF_c",
        "outputId": "6707c369-2c1e-416c-e2db-7dcd3a595736"
      },
      "outputs": [
        {
          "output_type": "stream",
          "name": "stdout",
          "text": [
            "KRISHNA\n",
            "SoCS\n",
            "KRISHNA SoCS\n"
          ]
        }
      ],
      "source": [
        "class person:\n",
        "  Name='KRISHNA'\n",
        "  dept='SoCS'\n",
        "  def info(self):\n",
        "    print(self.Name,self.dept)\n",
        "\n",
        "p1=person()\n",
        "print(p1.Name)\n",
        "print(p1.dept)\n",
        "p1.info()\n",
        "\n",
        "\n"
      ]
    },
    {
      "cell_type": "code",
      "source": [
        "class Person:\n",
        "  def __init__(self,Name,dept):\n",
        "    self.Name=Name\n",
        "    self.dept=dept\n",
        "  def info(self):\n",
        "    print(self.name,self.dept)\n",
        "\n",
        "p2=Person(\"KRISHNA\",\"SoCS\")\n"
      ],
      "metadata": {
        "id": "1-a4CCPLyVZU"
      },
      "execution_count": 5,
      "outputs": []
    },
    {
      "cell_type": "code",
      "source": [
        "class Rectangle:\n",
        "  def __init__(self,length,breadth):\n",
        "    self.length=length\n",
        "    self.breadth=breadth\n",
        "  def area(self):\n",
        "    print(\"The Area of the rectangle is:\",self.length*self.breadth)\n",
        "\n",
        "p3=Rectangle(10,5)\n",
        "p3.area()"
      ],
      "metadata": {
        "colab": {
          "base_uri": "https://localhost:8080/"
        },
        "id": "BSQC008L0BN-",
        "outputId": "79c034f7-f886-48ca-f46e-579af3a241c7"
      },
      "execution_count": null,
      "outputs": [
        {
          "output_type": "stream",
          "name": "stdout",
          "text": [
            "The Area of the rectangle is: 50\n"
          ]
        }
      ]
    },
    {
      "cell_type": "code",
      "source": [
        "class Rectangle:\n",
        "  length=10\n",
        "  breadth=5\n",
        "  def area(self):\n",
        "    print(\"The Area of the rectangle is:\",self.length*self.breadth)\n",
        "\n",
        "p4=Rectangle()\n",
        "p4.area()\n",
        "\n"
      ],
      "metadata": {
        "colab": {
          "base_uri": "https://localhost:8080/"
        },
        "id": "SjoNCMUV09k4",
        "outputId": "0aba9db3-7a3f-4d43-819d-217267e32930"
      },
      "execution_count": null,
      "outputs": [
        {
          "output_type": "stream",
          "name": "stdout",
          "text": [
            "The Area of the rectangle is: 50\n"
          ]
        }
      ]
    },
    {
      "cell_type": "code",
      "source": [
        "class Employee:       ###self keyword is only used for accessing class members.\n",
        "  Name='KRISHNA'\n",
        "  Dept='E&C'\n",
        "  def address(self,City):\n",
        "    print(self.Name,self.Dept,City)\n",
        "  def family(self,members):\n",
        "    print(members)\n",
        "\n",
        "E1=Employee()\n",
        "E1.Name\n",
        "City='DEHRADUN'\n",
        "E1.address(City)\n",
        "\n",
        "\n",
        "E2=Employee()\n",
        "E2.Name\n",
        "members=5\n",
        "E2.family(members)"
      ],
      "metadata": {
        "colab": {
          "base_uri": "https://localhost:8080/"
        },
        "id": "J1pZHhN-1h0b",
        "outputId": "0a3795ac-2ac4-4ef3-848d-466008db6ec5"
      },
      "execution_count": null,
      "outputs": [
        {
          "output_type": "stream",
          "name": "stdout",
          "text": [
            "Nadeem E&C Srinagar\n",
            "5\n"
          ]
        }
      ]
    },
    {
      "cell_type": "code",
      "source": [
        "class Employee:\n",
        "  def __init__(self,Name,City,Members,Dept):\n",
        "    self.Name=Name\n",
        "    self.City=City\n",
        "    self.Members=Members\n",
        "    self.Dept=Dept\n",
        "  def Personal_info(self):\n",
        "    print(self.Name,self.Dept)\n",
        "  def address(self):\n",
        "    print(self.City,self.Members)\n",
        "\n",
        "E5=Employee(\"KRISHNA\",\"DEHRADUN\",\"4\",\"SoCS\")\n",
        "E5.Personal_info()\n",
        "E5.address()"
      ],
      "metadata": {
        "colab": {
          "base_uri": "https://localhost:8080/"
        },
        "id": "Pn_3WNva2xip",
        "outputId": "e1585d40-208b-4cb7-ae52-e6baeb26902f"
      },
      "execution_count": 6,
      "outputs": [
        {
          "output_type": "stream",
          "name": "stdout",
          "text": [
            "KRISHNA SoCS\n",
            "DEHRADUN 4\n"
          ]
        }
      ]
    },
    {
      "cell_type": "code",
      "source": [
        "#Write a program using a class to generate the factorial of any number supplied by the user.\n",
        "#Write a program using a class to generate fibonacci series."
      ],
      "metadata": {
        "id": "8tTh7nzE5nI8"
      },
      "execution_count": null,
      "outputs": []
    },
    {
      "cell_type": "code",
      "source": [
        "#Write a program using a class to generate the factorial of any number supplied by the user.\n",
        "class Factorial:\n",
        "  def __init__(self,num):\n",
        "    self.num=num\n",
        "  def factorial(self):\n",
        "    if self.num==1:\n",
        "      print(\"The Factorial is 1.\")\n",
        "    else:\n",
        "      fact=1\n",
        "      for i in range(1,self.num+1):\n",
        "        fact=fact*i\n",
        "      print(\"The Factorial of the given number is\",fact)\n",
        "num=int(input(\"Enter the number you want the factorial for:\"))\n",
        "F1=Factorial(num)\n",
        "F1.factorial()\n",
        "\n"
      ],
      "metadata": {
        "colab": {
          "base_uri": "https://localhost:8080/"
        },
        "id": "9VNiiyY36a0t",
        "outputId": "8d5eaa4d-4226-4c98-beff-d5dc1197e5c4"
      },
      "execution_count": null,
      "outputs": [
        {
          "output_type": "stream",
          "name": "stdout",
          "text": [
            "Enter the number you want the factorial for:5\n",
            "The Factorial of the given number is 120\n"
          ]
        }
      ]
    },
    {
      "cell_type": "code",
      "source": [
        "#Write a program using a class to generate fibonacci series.\n",
        "class Fibonacci:\n",
        "  def __init__(self,num):\n",
        "    self.num=num\n",
        "  def fibonacci(self):\n",
        "    num=int(input(\"Enter a Number:\\n\"))\n",
        "    sum=0\n",
        "    a=0\n",
        "    b=1\n",
        "    print(\"Fibonacci Series:\")\n",
        "    print(a)\n",
        "    for i in range(1,num+1):\n",
        "      print(b)\n",
        "      sum=a+b\n",
        "      a=b\n",
        "      b=sum\n",
        "\n",
        "F2=Fibonacci(num)\n",
        "F2.fibonacci()\n",
        "\n"
      ],
      "metadata": {
        "id": "R_ApC2m17-xR",
        "colab": {
          "base_uri": "https://localhost:8080/"
        },
        "outputId": "c44fce77-1203-4678-e53d-6fbb0da9b5c0"
      },
      "execution_count": null,
      "outputs": [
        {
          "output_type": "stream",
          "name": "stdout",
          "text": [
            "Enter a Number:\n",
            "7\n",
            "Fibonacci Series:\n",
            "0\n",
            "1\n",
            "1\n",
            "2\n",
            "3\n",
            "5\n",
            "8\n",
            "13\n"
          ]
        }
      ]
    }
  ]
}