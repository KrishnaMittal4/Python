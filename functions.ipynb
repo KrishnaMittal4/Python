{
  "nbformat": 4,
  "nbformat_minor": 0,
  "metadata": {
    "colab": {
      "provenance": []
    },
    "kernelspec": {
      "name": "python3",
      "display_name": "Python 3"
    },
    "language_info": {
      "name": "python"
    }
  },
  "cells": [
    {
      "cell_type": "markdown",
      "source": [
        "write a program to create a function that does arithmetic addition subtraction multiplication and division"
      ],
      "metadata": {
        "id": "K75xW2ibE8kF"
      }
    },
    {
      "cell_type": "code",
      "source": [
        "def func_1(b,c):\n",
        "  add=b+c\n",
        "  subtract=b-c\n",
        "  multiply=b*c\n",
        "  divide=b/c\n",
        "  return add,subtract,multiply,divide\n",
        "b=int(input(\"Enter the first value\"))\n",
        "c=int(input(\"Enter the second value\"))\n",
        "func_1(b,c)"
      ],
      "metadata": {
        "colab": {
          "base_uri": "https://localhost:8080/"
        },
        "id": "lvr4xaMxEF60",
        "outputId": "0aff4775-3012-435d-ecef-c347d73373e8"
      },
      "execution_count": null,
      "outputs": [
        {
          "name": "stdout",
          "output_type": "stream",
          "text": [
            "Enter the first value2\n",
            "Enter the second value5\n"
          ]
        },
        {
          "output_type": "execute_result",
          "data": {
            "text/plain": [
              "(7, -3, 10, 0.4)"
            ]
          },
          "metadata": {},
          "execution_count": 45
        }
      ]
    },
    {
      "cell_type": "markdown",
      "source": [],
      "metadata": {
        "id": "dlI1Rel8IPhx"
      }
    },
    {
      "cell_type": "markdown",
      "source": [
        "write a function to check if a given year is a leap year"
      ],
      "metadata": {
        "id": "vXrQciyKI4-v"
      }
    },
    {
      "cell_type": "code",
      "source": [
        "def func_1(year,a):\n",
        "  leap_year=year%a\n",
        "\n",
        "  return leap_year\n",
        "year=int(input(\"Enter the year to check if the year is leap year -\"))\n",
        "a=4\n",
        "func_1(year,a)\n",
        "if (func_1(year,a)==0):\n",
        "  print(\"It is a leap year\")\n",
        "else:\n",
        "  print(\"It is not a leap year\")"
      ],
      "metadata": {
        "colab": {
          "base_uri": "https://localhost:8080/"
        },
        "id": "4VAXZ_1hIPJn",
        "outputId": "a9b87c00-6091-45c6-8341-0f37f3ec9d8e"
      },
      "execution_count": null,
      "outputs": [
        {
          "output_type": "stream",
          "name": "stdout",
          "text": [
            "Enter the year to check if the year is leap year -2024\n",
            "It is a leap year\n"
          ]
        }
      ]
    },
    {
      "cell_type": "markdown",
      "source": [
        "write a function to print largest element in the list"
      ],
      "metadata": {
        "id": "31rlJ4DvKtsd"
      }
    },
    {
      "cell_type": "code",
      "source": [
        "def func_1(a,n):\n",
        "  max=0\n",
        "  a[0]=max\n",
        "  for i in range(0,n):\n",
        "    if(a[i]>max):\n",
        "      max=a[i]\n",
        "  print(max)\n",
        "a=[1,2,3,4,5,7,23]\n",
        "n=len(a)\n",
        "func_1(a,n)\n"
      ],
      "metadata": {
        "colab": {
          "base_uri": "https://localhost:8080/"
        },
        "id": "JHewaqveK8G7",
        "outputId": "48c1420c-1f0f-46e5-c845-ea6f852db464"
      },
      "execution_count": null,
      "outputs": [
        {
          "output_type": "stream",
          "name": "stdout",
          "text": [
            "23\n"
          ]
        }
      ]
    }
  ]
}