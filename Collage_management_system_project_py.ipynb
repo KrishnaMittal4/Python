{
  "nbformat": 4,
  "nbformat_minor": 0,
  "metadata": {
    "colab": {
      "provenance": [],
      "authorship_tag": "ABX9TyPxjO/wVQGGWhbNTCBbFng/",
      "include_colab_link": true
    },
    "kernelspec": {
      "name": "python3",
      "display_name": "Python 3"
    },
    "language_info": {
      "name": "python"
    }
  },
  "cells": [
    {
      "cell_type": "markdown",
      "metadata": {
        "id": "view-in-github",
        "colab_type": "text"
      },
      "source": [
        "<a href=\"https://colab.research.google.com/github/KrishnaMittal4/Python/blob/main/Collage_management_system_project_py.ipynb\" target=\"_parent\"><img src=\"https://colab.research.google.com/assets/colab-badge.svg\" alt=\"Open In Colab\"/></a>"
      ]
    },
    {
      "cell_type": "code",
      "execution_count": null,
      "metadata": {
        "colab": {
          "base_uri": "https://localhost:8080/"
        },
        "id": "WmHTMmv3sZ7K",
        "outputId": "6c3e1294-e62a-4a83-e9d7-0dc52bb8957e"
      },
      "outputs": [
        {
          "output_type": "stream",
          "name": "stdout",
          "text": [
            "Enter university name: UPES\n",
            "Enter university location: BIDHOLI\n",
            "\n",
            "1. Admit Student\n",
            "2. Hire Professor\n",
            "3. Display Student Information\n",
            "4. Display Professor Information\n",
            "5. Exit\n",
            "Enter your choice: 1\n",
            "Enter student ID: 500124263\n",
            "Enter student name: KRISHNA MITTAL\n",
            "Enter student age: 18\n",
            "Enter student gender: MALE\n",
            "Student admitted successfully.\n",
            "\n",
            "1. Admit Student\n",
            "2. Hire Professor\n",
            "3. Display Student Information\n",
            "4. Display Professor Information\n",
            "5. Exit\n"
          ]
        }
      ],
      "source": [
        "class Student:\n",
        "    def __init__(self, student_id, name, age, gender):\n",
        "        self.student_id = student_id\n",
        "        self.name = name\n",
        "        self.age = age\n",
        "        self.gender = gender\n",
        "\n",
        "    def display_info(self):\n",
        "        print(\"Student Information:\")\n",
        "        print(f\"Student ID: {self.student_id}\")\n",
        "        print(f\"Name: {self.name}\")\n",
        "        print(f\"Age: {self.age}\")\n",
        "        print(f\"Gender: {self.gender}\")\n",
        "\n",
        "\n",
        "class Professor:\n",
        "    def __init__(self, professor_id, name, department):\n",
        "        self.professor_id = professor_id\n",
        "        self.name = name\n",
        "        self.department = department\n",
        "\n",
        "    def display_info(self):\n",
        "        print(\"Professor Information:\")\n",
        "        print(f\"Professor ID: {self.professor_id}\")\n",
        "        print(f\"Name: {self.name}\")\n",
        "        print(f\"Department: {self.department}\")\n",
        "\n",
        "\n",
        "class University:\n",
        "    def __init__(self, university_name, location):\n",
        "        self.university_name = university_name\n",
        "        self.location = location\n",
        "        self.students = []\n",
        "        self.professors = []\n",
        "\n",
        "    def admit_student(self, student):\n",
        "        self.students.append(student)\n",
        "\n",
        "    def hire_professor(self, professor):\n",
        "        self.professors.append(professor)\n",
        "\n",
        "    def display_student_info(self):\n",
        "        print(\"Students in the University:\")\n",
        "        for student in self.students:\n",
        "            student.display_info()\n",
        "\n",
        "    def display_professor_info(self):\n",
        "        print(\"Professors in the University:\")\n",
        "        for professor in self.professors:\n",
        "            professor.display_info()\n",
        "\n",
        "\n",
        "if __name__ == \"__main__\":\n",
        "    university_name = input(\"Enter university name: \")\n",
        "    university_location = input(\"Enter university location: \")\n",
        "    university = University(university_name, university_location)\n",
        "\n",
        "    while True:\n",
        "        print(\"\\n1. Admit Student\")\n",
        "        print(\"2. Hire Professor\")\n",
        "        print(\"3. Display Student Information\")\n",
        "        print(\"4. Display Professor Information\")\n",
        "        print(\"5. Exit\")\n",
        "        choice = input(\"Enter your choice: \")\n",
        "\n",
        "        if choice == \"1\":\n",
        "            student_id = input(\"Enter student ID: \")\n",
        "            name = input(\"Enter student name: \")\n",
        "            age = input(\"Enter student age: \")\n",
        "            gender = input(\"Enter student gender: \")\n",
        "            student = Student(student_id, name, age, gender)\n",
        "            university.admit_student(student)\n",
        "            print(\"Student admitted successfully.\")\n",
        "\n",
        "        elif choice == \"2\":\n",
        "            professor_id = input(\"Enter professor ID: \")\n",
        "            name = input(\"Enter professor name: \")\n",
        "            department = input(\"Enter professor department: \")\n",
        "            professor = Professor(professor_id, name, department)\n",
        "            university.hire_professor(professor)\n",
        "            print(\"Professor hired successfully.\")\n",
        "\n",
        "        elif choice == \"3\":\n",
        "            university.display_student_info()\n",
        "\n",
        "        elif choice == \"4\":\n",
        "            university.display_professor_info()\n",
        "\n",
        "        elif choice == \"5\":\n",
        "            print(\"Exiting...\")\n",
        "            break\n",
        "\n",
        "        else:\n",
        "            print(\"Invalid choice. Please try again.\")\n"
      ]
    }
  ]
}