{
  "cells": [
    {
      "cell_type": "markdown",
      "metadata": {
        "id": "view-in-github",
        "colab_type": "text"
      },
      "source": [
        "<a href=\"https://colab.research.google.com/github/krishnamitttal/Python/blob/main/Class_till_26-01-24.ipynb\" target=\"_parent\"><img src=\"https://colab.research.google.com/assets/colab-badge.svg\" alt=\"Open In Colab\"/></a>"
      ]
    },
    {
      "cell_type": "code",
      "execution_count": null,
      "metadata": {
        "colab": {
          "base_uri": "https://localhost:8080/"
        },
        "id": "AJJS2zcYZJ_c",
        "outputId": "275a63bf-99a1-47a9-b198-5c8c1527c71a"
      },
      "outputs": [
        {
          "output_type": "stream",
          "name": "stdout",
          "text": [
            "Welcome\n",
            "Home\n"
          ]
        }
      ],
      "source": [
        "print(\"Welcome\\nHome\")"
      ]
    },
    {
      "cell_type": "code",
      "execution_count": null,
      "metadata": {
        "colab": {
          "base_uri": "https://localhost:8080/"
        },
        "id": "bfevjeKUZc3v",
        "outputId": "2cc41711-6e9c-4063-dd34-02da10623bfd"
      },
      "outputs": [
        {
          "output_type": "stream",
          "name": "stdout",
          "text": [
            "\n",
            "\n"
          ]
        }
      ],
      "source": [
        "print(\"\\n\")\n"
      ]
    },
    {
      "cell_type": "code",
      "execution_count": null,
      "metadata": {
        "colab": {
          "base_uri": "https://localhost:8080/"
        },
        "id": "bjX8bvtcZucb",
        "outputId": "5fea1790-807c-4f88-a8cc-64b601821d96"
      },
      "outputs": [
        {
          "name": "stdout",
          "output_type": "stream",
          "text": [
            "<class 'float'>\n"
          ]
        }
      ],
      "source": [
        "print(type(a))"
      ]
    },
    {
      "cell_type": "code",
      "execution_count": null,
      "metadata": {
        "colab": {
          "base_uri": "https://localhost:8080/"
        },
        "id": "AbBcxa_AbzV2",
        "outputId": "7407fb85-f41b-464f-ad9a-a7f753acd7f4"
      },
      "outputs": [
        {
          "name": "stdout",
          "output_type": "stream",
          "text": [
            "20.2\n"
          ]
        }
      ],
      "source": [
        "a=10\n",
        "b=10.2\n",
        "sum=a+b\n",
        "print(sum)"
      ]
    },
    {
      "cell_type": "code",
      "execution_count": null,
      "metadata": {
        "id": "0VKTVNVcc653"
      },
      "outputs": [],
      "source": [
        "birth_year=input(\"Enter your birth year\")\n",
        "age=2024-int(birth_year)\n",
        "print(\"Your age is: \" +str(age))\n",
        "\n"
      ]
    },
    {
      "cell_type": "code",
      "execution_count": null,
      "metadata": {
        "id": "tCsx17ufgNUc"
      },
      "outputs": [],
      "source": [
        "print(\"Creating a biodata of yourself!\")\n",
        "name=input(\"Enter your name:\")\n",
        "sapID=input(\"Enter your sap ID:\")\n",
        "university=input(\"Enter your university name:\")\n",
        "address=input(\"Enter your university address:\")\n",
        "age=input(\"Enter your age:\")\n",
        "pincode=input(\"Enter pincode:\")\n",
        "print(\"Your name is:\"+name)\n",
        "print(\"Your SAP ID is:\"+sapID)\n",
        "print(\"Your university is:\"+university)\n",
        "print(\"Your address is:\"+address+\",\"+pincode)\n",
        "print(\"Your age is: \"+age)\n"
      ]
    },
    {
      "cell_type": "code",
      "source": [
        "print(\"Operations on strings\")\n",
        "print(\"Concatenating two strings\")\n",
        "str1=input(\"Enter first string:\")\n",
        "str2=input(\"Enter second string:\")\n",
        "str3=str1+str2\n",
        "print(\"Concatenated string:\",str3)\n",
        "print(\"\\n\")\n",
        "print(\"Appending two strings\")\n",
        "str4=input(\"Enter a string:\")\n",
        "str5=input(\"Enter a string to be appended:\")\n",
        "str4+=str5\n",
        "print(\"Appended string is:\",str4)\n",
        "print(\"\\n\")\n",
        "print(\"Multiplying strings\")\n",
        "str6=input(\"Enter a string:\")\n",
        "n=int(input(\"Enter number of times to multiply the string:\"))\n",
        "print(str6*n)\n",
        "print(\"\\n\")\n",
        "print(\"Converting a string into lowercase\")\n",
        "str7=\"HELLO WORLD\"\n",
        "print(\"Before conversion:\",str7)\n",
        "print(\"After Conversion:\",str7.lower())\n",
        "print(\"\\n\")\n",
        "print(\"Converting a string into uppercase\")\n",
        "str8=\"hello world\"\n",
        "print(\"Before Conversion:\",str8)\n",
        "print(\"After Conversion:\",str8.upper())\n",
        "print(\"\\n\")\n",
        "print(\"Finding a substring in a string\")\n",
        "str9=input(\"Enter a string:\")\n",
        "str10=input(\"Enter substring:\")\n",
        "print(str9.find(str10,0,len(str9)))\n",
        "print(\"\\n\")\n",
        "print(\"Replacing a substring in a given string\")\n",
        "str11=\"Python for programming\"\n",
        "print(\"Before replacing:\",str11)\n",
        "print(\"After replacing:\",str11.replace(\"for\",\"4\"))\n",
        "print(\"\\n\")\n",
        "print(\"Swapping cases of characters in a given string\")\n",
        "str12=input(\"Enter a string:\")\n",
        "print(\"Swapping cases,we get:\",str12.swapcase())\n",
        "print(\"\\n\")\n",
        "print(\"Length of a String\")\n",
        "str13=input(\"Enter a string:\")\n",
        "print(\"Length of the entered string is:\",len(str13))\n"
      ],
      "metadata": {
        "id": "uMmxf6mV4odb",
        "colab": {
          "base_uri": "https://localhost:8080/"
        },
        "outputId": "6efd1f62-04b2-49e3-b194-0ea66fce3160"
      },
      "execution_count": null,
      "outputs": [
        {
          "output_type": "stream",
          "name": "stdout",
          "text": [
            "Operations on strings\n",
            "Concatenating two strings\n",
            "Enter first string:a\n",
            "Enter second string:b\n",
            "Concatenated string: ab\n",
            "\n",
            "\n",
            "Appending two strings\n",
            "Enter a string:a\n",
            "Enter a string to be appended:b\n",
            "Appended string is: ab\n",
            "\n",
            "\n",
            "Multiplying strings\n",
            "Enter a string:a\n",
            "Enter number of times to multiply the string:3\n",
            "aaa\n",
            "\n",
            "\n",
            "Converting a string into lowercase\n",
            "Before conversion: HELLO WORLD\n",
            "After Conversion: hello world\n",
            "\n",
            "\n",
            "Converting a string into uppercase\n",
            "Before Conversion: hello world\n",
            "After Conversion: HELLO WORLD\n",
            "\n",
            "\n",
            "Finding a substring in a string\n",
            "Enter a string:I like to play cricket\n",
            "Enter substring:to\n",
            "7\n",
            "\n",
            "\n",
            "Replacing a substring in a given string\n",
            "Before replacing: Python for programming\n",
            "After replacing: Python 4 programming\n",
            "\n",
            "\n",
            "Swapping cases of characters in a given string\n",
            "Enter a string:It is a nice day isn't it?\n",
            "Swapping cases,we get: iT IS A NICE DAY ISN'T IT?\n",
            "\n",
            "\n",
            "Length of a String\n",
            "Enter a string:Brishav Debnath\n",
            "Length of the entered string is: 15\n"
          ]
        }
      ]
    },
    {
      "cell_type": "code",
      "source": [
        "val1=25\n",
        "val2=34\n",
        "val3=val1+val2\n",
        "print(val3)"
      ],
      "metadata": {
        "colab": {
          "base_uri": "https://localhost:8080/"
        },
        "id": "G5N5pzO2_SbF",
        "outputId": "ef46450c-e19e-413c-da95-f72f3d51f361"
      },
      "execution_count": null,
      "outputs": [
        {
          "output_type": "stream",
          "name": "stdout",
          "text": [
            "59\n"
          ]
        }
      ]
    },
    {
      "cell_type": "code",
      "source": [
        "a=float(input(\"Enter the first variable:\\n\"))\n",
        "b=float(input(\"Enter the second variable:\\n\"))\n",
        "c=a+b\n",
        "d=a-b\n",
        "e=a*b\n",
        "f=a/b\n",
        "g=a%b\n",
        "h=a//b\n",
        "i=a**b\n",
        "print(\"The addition is:\",c)\n",
        "print(\"The subtraction is:\",d)\n",
        "print(\"The multiplication is :\",e)\n",
        "print(\"The division is:\",f)\n",
        "print(\"The remainder after dividing the first variable from the second is:\",g)\n",
        "print(\"The quotient after dividing the first variable from the second is:\",h)\n",
        "print(\"The first variable raised to the power of second is:\",i)"
      ],
      "metadata": {
        "colab": {
          "base_uri": "https://localhost:8080/"
        },
        "id": "y6Pz350PBxR2",
        "outputId": "f1a18d9f-0098-462c-85b7-e03d1e063012"
      },
      "execution_count": null,
      "outputs": [
        {
          "output_type": "stream",
          "name": "stdout",
          "text": [
            "Enter the first variable:\n",
            "127.67\n",
            "Enter the second variable:\n",
            "25.53\n",
            "The addition is: 153.2\n",
            "The subtraction is: 102.14\n",
            "The multiplication is : 3259.4151\n",
            "The division is: 5.000783392087739\n",
            "The remainder after dividing the first variable from the second is: 0.01999999999999602\n",
            "The quotient after dividing the first variable from the second is: 5.0\n",
            "The first variable raised to the power of second is: 5.867438612131203e+53\n"
          ]
        }
      ]
    },
    {
      "cell_type": "code",
      "source": [
        "a=10\n",
        "if not a:\n",
        "  print(\"Boolean value of a is true\")\n",
        "if not (a%3==0 or a%5==0):\n",
        "  print(\"10 is divisible by either 3 or 5\")\n",
        "else:\n",
        "  print(\"10 is divisible by either 3 or 5\")\n"
      ],
      "metadata": {
        "colab": {
          "base_uri": "https://localhost:8080/"
        },
        "id": "f9t6G3O8KYYa",
        "outputId": "5f251e6a-e750-40c4-a588-db12949822f6"
      },
      "execution_count": null,
      "outputs": [
        {
          "output_type": "stream",
          "name": "stdout",
          "text": [
            "10 is divisible by either 3 or 5\n"
          ]
        }
      ]
    },
    {
      "cell_type": "code",
      "source": [
        "a=10\n",
        "if  a:\n",
        "  print(\"Boolean value of a is true\")\n",
        "if  (a%3==0 or a%5==0):\n",
        "  print(\"10 is divisible by either 3 or 5\")\n",
        "else:\n",
        "  print(\"10 is divisible by either 3 or 5\")"
      ],
      "metadata": {
        "colab": {
          "base_uri": "https://localhost:8080/"
        },
        "id": "U-SkHAM_LSFF",
        "outputId": "e1a80378-6139-454d-ee21-bb726bf596d7"
      },
      "execution_count": null,
      "outputs": [
        {
          "output_type": "stream",
          "name": "stdout",
          "text": [
            "Boolean value of a is true\n",
            "10 is divisible by either 3 or 5\n"
          ]
        }
      ]
    },
    {
      "cell_type": "code",
      "source": [
        "def order(x):\n",
        "  print(\"Method called for value:\",x)\n",
        "  return True if x>0 else False\n",
        "a=order\n",
        "b=order\n",
        "c=order\n",
        "if a(-1)or b(5) or c(10):\n",
        "  print(\"Atleast one of them is positive\")"
      ],
      "metadata": {
        "colab": {
          "base_uri": "https://localhost:8080/"
        },
        "id": "LUVHqWElLm37",
        "outputId": "66d185b9-6702-45eb-ebc0-e8c7f23ea8b8"
      },
      "execution_count": null,
      "outputs": [
        {
          "output_type": "stream",
          "name": "stdout",
          "text": [
            "Method called for value: -1\n",
            "Method called for value: 5\n",
            "Atleast one of them is positive\n"
          ]
        }
      ]
    },
    {
      "cell_type": "code",
      "source": [
        "a=10\n",
        "b=4\n",
        "print(~a)\n",
        "print(~b)"
      ],
      "metadata": {
        "colab": {
          "base_uri": "https://localhost:8080/"
        },
        "id": "09m6xYeINIQQ",
        "outputId": "512124cc-a842-41c7-ef56-7ca99ceb3718"
      },
      "execution_count": null,
      "outputs": [
        {
          "output_type": "stream",
          "name": "stdout",
          "text": [
            "-11\n",
            "-5\n"
          ]
        }
      ]
    },
    {
      "cell_type": "code",
      "source": [
        "temp=30\n",
        "print(temp>5 and temp<10)\n",
        "print(temp>40 or temp<=30)\n",
        "print( not temp==30)\n",
        "print(type(temp))\n"
      ],
      "metadata": {
        "colab": {
          "base_uri": "https://localhost:8080/"
        },
        "id": "hML9Aw9f1u4b",
        "outputId": "cf540b86-69da-46d3-c9fb-55cc8bafd204"
      },
      "execution_count": null,
      "outputs": [
        {
          "output_type": "stream",
          "name": "stdout",
          "text": [
            "False\n",
            "True\n",
            "False\n",
            "<class 'int'>\n"
          ]
        }
      ]
    },
    {
      "cell_type": "code",
      "source": [
        "temp=float(input(\"Enter the temperature:\"))\n",
        "print(temp>5 and temp<10)\n",
        "print(temp>30 or temp<=40)\n",
        "print( not temp==30)\n",
        "print(type(temp))\n",
        "print(round(temp))"
      ],
      "metadata": {
        "colab": {
          "base_uri": "https://localhost:8080/"
        },
        "id": "P7T6QRFO4TGC",
        "outputId": "709591ce-57ba-43a4-88f2-13ff7261388a"
      },
      "execution_count": null,
      "outputs": [
        {
          "output_type": "stream",
          "name": "stdout",
          "text": [
            "Enter the temperature:39.5\n",
            "False\n",
            "True\n",
            "True\n",
            "<class 'float'>\n",
            "40\n"
          ]
        }
      ]
    },
    {
      "cell_type": "markdown",
      "source": [
        "if else"
      ],
      "metadata": {
        "id": "OuCESp285xfn"
      }
    },
    {
      "cell_type": "code",
      "source": [
        "temp=float(input(\"Enter the temperature: \"))\n",
        "if temp >= 40 and temp <=50:\n",
        "  print(\"it is too hot today!\")\n",
        "  print(\"take enough fluids.\")\n",
        "elif temp>=30:\n",
        "  print(\"It is awesme today!\")\n",
        "elif temp <=20:\n",
        "  print(\"It's cool\")\n",
        "elif temp >30 and temp <40:\n",
        "  print(\"It is hot today!\")\n",
        "else:\n",
        "  print(\"Enjoy whatever it is!\")"
      ],
      "metadata": {
        "colab": {
          "base_uri": "https://localhost:8080/"
        },
        "id": "T3eNhqxH5y0O",
        "outputId": "10cd1c12-e694-478f-e1f6-6c03edb71ebb"
      },
      "execution_count": null,
      "outputs": [
        {
          "output_type": "stream",
          "name": "stdout",
          "text": [
            "Enter the temperature: 56.55\n",
            "it is too hot today!\n",
            "take enough fluids.\n"
          ]
        }
      ]
    },
    {
      "cell_type": "code",
      "source": [
        "#Write a program to enter a user choice for selecting a specialization in SoCS.\n",
        "percent=float(input(\"Enter your entrance exam percentage: \"))\n",
        "if percent>=90 and percent <=100:\n",
        "  print(\"You can choose:\\n1.AI/ML\\n2.Data Science\")\n",
        "elif percent >=80 and percent<90:\n",
        "  print(\"You can choose:\\n1.Cybersecurity\\n2.Cloud Computing\")\n",
        "elif percent>=50 and percent<80:\n",
        "  print(\"You can choose:\\n1.Gaming\")\n",
        "else:\n",
        "  print(\"You are not eligible for any CoSC course.\\nThank you. \")"
      ],
      "metadata": {
        "colab": {
          "base_uri": "https://localhost:8080/"
        },
        "id": "Tjsej2u378tw",
        "outputId": "bff1b8f1-8af6-40a8-bfbf-209ab59d0a8b"
      },
      "execution_count": null,
      "outputs": [
        {
          "output_type": "stream",
          "name": "stdout",
          "text": [
            "Enter your entrance exam percentage: 45.90\n",
            "You are not eligible for any CoSC course.\n",
            "Thank you. \n"
          ]
        }
      ]
    },
    {
      "cell_type": "code",
      "source": [
        "#weight conversion example\n",
        "weight=float(input(\"Enter the weight: \"))\n",
        "unit=input(\"K(g) or L(bs): \")\n",
        "if unit.upper() == \"K\":\n",
        "  weight=weight//0.45\n",
        "  print(\"The output in Lbs is:\",weight)\n",
        "else:\n",
        "  weight=weight*0.45\n",
        "  print(\"The output in Kgs is:\",weight)"
      ],
      "metadata": {
        "colab": {
          "base_uri": "https://localhost:8080/"
        },
        "id": "VSTk5rEU_Zw5",
        "outputId": "19764aa3-8560-4508-9813-2d8d4a4243b5"
      },
      "execution_count": null,
      "outputs": [
        {
          "output_type": "stream",
          "name": "stdout",
          "text": [
            "Enter the weight: 90\n",
            "K(g) or L(bs): l\n",
            "The output in Kgs is: 40.5\n"
          ]
        }
      ]
    },
    {
      "cell_type": "code",
      "source": [
        "#Write a program to modify above example to convert Kgs into gms.\n",
        "weight=float(input(\"Enter the weight: \"))\n",
        "unit=input(\"K(gs) or G(ms)?\\nChoose 'K' or 'G': \")\n",
        "if unit.upper()==\"K\":\n",
        "  weight=weight*1000\n",
        "  print(\"The weight in G(ms) is:\",weight)\n",
        "elif unit.upper()==\"G\":\n",
        "  weight=weight//1000\n",
        "  print(\"The weight in K(gs) is:\",weight)\n",
        "else:\n",
        "  print(\"Only K(gs) to G(ms) or vice versa conversion allowed\")\n"
      ],
      "metadata": {
        "colab": {
          "base_uri": "https://localhost:8080/"
        },
        "id": "4fyi5kaTD_hZ",
        "outputId": "0b690f0d-a993-42d0-e404-18659304d238"
      },
      "execution_count": null,
      "outputs": [
        {
          "output_type": "stream",
          "name": "stdout",
          "text": [
            "Enter the weight: 56.67\n",
            "K(gs) or G(ms)?\n",
            "Choose 'K' or 'G': k\n",
            "The weight in G(ms) is: 56670.0\n"
          ]
        }
      ]
    },
    {
      "cell_type": "code",
      "source": [
        "#while loop\n",
        "i=0\n",
        "while(i<=10):\n",
        "  print(i*\"*\")\n",
        "  i+=1\n",
        "print(\"something\")"
      ],
      "metadata": {
        "colab": {
          "base_uri": "https://localhost:8080/"
        },
        "id": "raxA_7EkGxFh",
        "outputId": "6c05de5e-5a3c-438a-c892-7172406f6337"
      },
      "execution_count": null,
      "outputs": [
        {
          "output_type": "stream",
          "name": "stdout",
          "text": [
            "\n",
            "*\n",
            "**\n",
            "***\n",
            "****\n",
            "*****\n",
            "******\n",
            "*******\n",
            "********\n",
            "*********\n",
            "**********\n",
            "something\n"
          ]
        }
      ]
    },
    {
      "cell_type": "code",
      "source": [
        "#while loop\n",
        "i=10\n",
        "while(i>=1):\n",
        "  print(i*\"*\")\n",
        "  i-=1\n",
        "print(\"something\")"
      ],
      "metadata": {
        "colab": {
          "base_uri": "https://localhost:8080/"
        },
        "id": "k_jyLqbDHXWh",
        "outputId": "ae515196-1c83-4917-db69-e67ead450792"
      },
      "execution_count": null,
      "outputs": [
        {
          "output_type": "stream",
          "name": "stdout",
          "text": [
            "**********\n",
            "*********\n",
            "********\n",
            "*******\n",
            "******\n",
            "*****\n",
            "****\n",
            "***\n",
            "**\n",
            "*\n",
            "something\n"
          ]
        }
      ]
    },
    {
      "cell_type": "code",
      "source": [
        "a = 7\n",
        "i = 0\n",
        "while (i<3):\n",
        "  guess=int(input(\"Try to guess a number\"))\n",
        "  if guess==a:\n",
        "    print(\"You've guessed the correct number\")\n",
        "    break\n",
        "  else:\n",
        "    print(\"Try again\")\n",
        "    i+=1\n",
        "if i==3:\n",
        "  print(\"You Lose!\")\n",
        "\n",
        "\n",
        "\n",
        "\n",
        "\n",
        "\n",
        "\n"
      ],
      "metadata": {
        "colab": {
          "base_uri": "https://localhost:8080/"
        },
        "id": "QFSnuF7IH5yI",
        "outputId": "e2804ca2-d08c-4cfd-eb76-0adca3938244"
      },
      "execution_count": null,
      "outputs": [
        {
          "output_type": "stream",
          "name": "stdout",
          "text": [
            "Try to guess a number5\n",
            "Try again\n",
            "Try to guess a number3\n",
            "Try again\n",
            "Try to guess a number2\n",
            "Try again\n",
            "You Lose!\n"
          ]
        }
      ]
    },
    {
      "cell_type": "code",
      "source": [
        "for item in \"python\":\n",
        "  print(item)\n"
      ],
      "metadata": {
        "id": "TYYf9s-TbuIq"
      },
      "execution_count": null,
      "outputs": []
    },
    {
      "cell_type": "code",
      "source": [
        "a=input(\"enter the first no.\")\n",
        "b=input(\"enter the second number.\")\n",
        "c=int(a)+int(b)\n",
        "print(c)\n",
        "print(type(c))"
      ],
      "metadata": {
        "colab": {
          "base_uri": "https://localhost:8080/"
        },
        "id": "Os-3P2fbknuI",
        "outputId": "906eaec6-345d-4de3-a6be-e21e8a0b09c5"
      },
      "execution_count": null,
      "outputs": [
        {
          "output_type": "stream",
          "name": "stdout",
          "text": [
            "enter the first no.10\n",
            "enter the second number.20\n",
            "30\n",
            "<class 'int'>\n"
          ]
        }
      ]
    },
    {
      "cell_type": "code",
      "source": [
        "sum=(10+20)*50   #use () to change hierarchy of operations\n",
        "print(\"sum\")\n",
        "print(sum)"
      ],
      "metadata": {
        "id": "KSw3vGVtmUef"
      },
      "execution_count": null,
      "outputs": []
    },
    {
      "cell_type": "code",
      "source": [
        "\n",
        "#Write a program to show whether a car has started or stopped\n",
        "cmd=\"\"\n",
        "repeat=False\n",
        "while (cmd.upper() != \"EXIT\"):\n",
        "  cmd=input(\"Choose:\\n1.Start\\n2.Stop\\n3.Help\\n4.Exit\\n\")\n",
        "  if cmd.upper()==\"START\":\n",
        "    if repeat==True:\n",
        "      print(\"The Car is already running! \")\n",
        "    else:\n",
        "      print(\"The Car has started!\")\n",
        "      repeat=True\n",
        "  elif cmd.upper()==\"STOP\":\n",
        "    if repeat==True:\n",
        "       print(\"The car has stopped\")\n",
        "    else:\n",
        "      print(\"The car has already stopped\")\n",
        "      repeat=False\n",
        "  elif cmd.upper()==\"HELP\":\n",
        "    if repeat == True:\n",
        "      print(\"1.start=Car will start.\\nCar is already running, Don't press the start button!\\n2.Stop=Car will start\\n3.Exit=To exit the program\")\n",
        "    if repeat== False:\n",
        "      print(\"1.start=Car will start.\\n2.Stop=Car will stop.\\nCar is already stopped. Don't press the stop button!\\n3.Exit=To exit the program\")\n",
        "  elif cmd.upper()==\"EXIT\":\n",
        "    print(\"Thanks for playing!\")\n",
        "    break\n",
        "  else:\n",
        "    print(\"Sorry, I dont understand the command\")\n"
      ],
      "metadata": {
        "colab": {
          "base_uri": "https://localhost:8080/"
        },
        "id": "W395v-h5nN10",
        "outputId": "e12583db-7f0f-43f3-ff60-8efbb2e8cd32"
      },
      "execution_count": null,
      "outputs": [
        {
          "output_type": "stream",
          "name": "stdout",
          "text": [
            "Choose:\n",
            "1.Start\n",
            "2.Stop\n",
            "3.Help\n",
            "4.Exit\n",
            "Help\n",
            "1.start=Car will start.\n",
            "2.Stop=Car will stop.\n",
            "Car is already stopped. Don't press the stop button!\n",
            "3.Exit=To exit the program\n",
            "Choose:\n",
            "1.Start\n",
            "2.Stop\n",
            "3.Help\n",
            "4.Exit\n",
            "Start\n",
            "The Car has started!\n",
            "Choose:\n",
            "1.Start\n",
            "2.Stop\n",
            "3.Help\n",
            "4.Exit\n",
            "Help\n",
            "1.start=Car will start.\n",
            "Car is already running, Don't press the start button!\n",
            "2.Stop=Car will start\n",
            "3.Exit=To exit the program\n",
            "Choose:\n",
            "1.Start\n",
            "2.Stop\n",
            "3.Help\n",
            "4.Exit\n",
            "Start\n",
            "The Car is already running! \n",
            "Choose:\n",
            "1.Start\n",
            "2.Stop\n",
            "3.Help\n",
            "4.Exit\n",
            "Stop\n",
            "The car has stopped\n",
            "Choose:\n",
            "1.Start\n",
            "2.Stop\n",
            "3.Help\n",
            "4.Exit\n",
            "exit\n",
            "Thanks for playing!\n"
          ]
        }
      ]
    },
    {
      "cell_type": "code",
      "source": [],
      "metadata": {
        "id": "PmrnIGwKARca"
      },
      "execution_count": null,
      "outputs": []
    }
  ],
  "metadata": {
    "colab": {
      "provenance": [],
      "include_colab_link": true
    },
    "kernelspec": {
      "display_name": "Python 3",
      "name": "python3"
    },
    "language_info": {
      "name": "python"
    }
  },
  "nbformat": 4,
  "nbformat_minor": 0
}