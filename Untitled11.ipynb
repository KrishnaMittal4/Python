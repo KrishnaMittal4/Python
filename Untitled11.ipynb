{
  "nbformat": 4,
  "nbformat_minor": 0,
  "metadata": {
    "colab": {
      "provenance": []
    },
    "kernelspec": {
      "name": "python3",
      "display_name": "Python 3"
    },
    "language_info": {
      "name": "python"
    }
  },
  "cells": [
    {
      "cell_type": "markdown",
      "source": [
        "Write a program to swap first and last element of a list"
      ],
      "metadata": {
        "id": "woa6KIcmiezT"
      }
    },
    {
      "cell_type": "code",
      "execution_count": null,
      "metadata": {
        "id": "Yy9NcWo-GcyH",
        "colab": {
          "base_uri": "https://localhost:8080/"
        },
        "outputId": "deda3635-d865-4015-d504-4fba7ce47081"
      },
      "outputs": [
        {
          "output_type": "stream",
          "name": "stdout",
          "text": [
            "[8, 2, 3, 4, 5, 6, 7, 1]\n"
          ]
        }
      ],
      "source": [
        "mylist=[1,2,3,4,5,6,7,8]\n",
        "c=mylist[0]\n",
        "mylist[0]=mylist[-1]\n",
        "mylist[-1]=c\n",
        "print(mylist)\n"
      ]
    },
    {
      "cell_type": "markdown",
      "source": [
        "Write a program to print a list containing prime numbers from range 1 to 100"
      ],
      "metadata": {
        "id": "DU1SWHh0h8BH"
      }
    },
    {
      "cell_type": "code",
      "source": [
        "list=[]\n",
        "flag=0\n",
        "for i in range(2,100):\n",
        "    for j in range(2,i):\n",
        "        if(i%j==0):\n",
        "            flag=1\n",
        "            break\n",
        "        else:\n",
        "            flag=0\n",
        "    if(flag==0):\n",
        "        list.append(i)\n",
        "print(list)\n",
        "\n",
        "\n",
        "\n",
        "\n",
        "\n",
        "\n",
        "\n"
      ],
      "metadata": {
        "id": "WXR3ZrHaRjbm",
        "colab": {
          "base_uri": "https://localhost:8080/"
        },
        "outputId": "578e3859-3326-4054-bd3d-3fb07ca41bc6"
      },
      "execution_count": 1,
      "outputs": [
        {
          "output_type": "stream",
          "name": "stdout",
          "text": [
            "[2, 3, 5, 7, 11, 13, 17, 19, 23, 29, 31, 37, 41, 43, 47, 53, 59, 61, 67, 71, 73, 79, 83, 89, 97]\n"
          ]
        }
      ]
    },
    {
      "cell_type": "markdown",
      "source": [
        "Write a program to print unique elements  in a list and find the maximum number"
      ],
      "metadata": {
        "id": "a8vXn_esiHlK"
      }
    },
    {
      "cell_type": "code",
      "source": [
        "list=[]\n",
        "for i in range(1,5):\n",
        "  a=int(input(\"enter list elements= \"))\n",
        "  list.append(a)\n",
        "print(list)\n",
        "print(max(list))\n",
        ""
      ],
      "metadata": {
        "colab": {
          "base_uri": "https://localhost:8080/"
        },
        "id": "LqUpVPrtgv2u",
        "outputId": "71e8e79c-9fb3-4892-876f-5182bca0c26b"
      },
      "execution_count": 8,
      "outputs": [
        {
          "output_type": "stream",
          "name": "stdout",
          "text": [
            "enter list elements= 10\n",
            "enter list elements= 9\n",
            "enter list elements= 8\n",
            "enter list elements= 6\n",
            "[10, 9, 8, 6]\n",
            "10\n"
          ]
        }
      ]
    }
  ]
}