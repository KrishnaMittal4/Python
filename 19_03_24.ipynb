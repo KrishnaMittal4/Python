{
  "nbformat": 4,
  "nbformat_minor": 0,
  "metadata": {
    "colab": {
      "provenance": [],
      "include_colab_link": true
    },
    "kernelspec": {
      "name": "python3",
      "display_name": "Python 3"
    },
    "language_info": {
      "name": "python"
    }
  },
  "cells": [
    {
      "cell_type": "markdown",
      "metadata": {
        "id": "view-in-github",
        "colab_type": "text"
      },
      "source": [
        "<a href=\"https://colab.research.google.com/github/KrishnaMittal4/Python/blob/main/19_03_24.ipynb\" target=\"_parent\"><img src=\"https://colab.research.google.com/assets/colab-badge.svg\" alt=\"Open In Colab\"/></a>"
      ]
    },
    {
      "cell_type": "markdown",
      "source": [
        "Create two classes for the same object. The Class is student, the second class is member.You have to pass student details.Print the results from both classes using only a single object."
      ],
      "metadata": {
        "id": "zpRCYJZmM3m5"
      }
    },
    {
      "cell_type": "code",
      "source": [
        "class student:\n",
        "  def __init__(self,name,ID):\n",
        "    self.n=name\n",
        "    self.I=ID\n",
        "    self.m=self.member()\n",
        "  def details(self):\n",
        "    print(\"Name:\",self.n)\n",
        "    print(\"Sap ID:\",self.I)\n",
        "  class member:\n",
        "    def __init__(self):\n",
        "      self.club=\"Cricket club\"\n",
        "      self.year=2000\n",
        "    def club_details(self):\n",
        "      print(\"Club:\",self.club)\n",
        "      print(\"Year established:\",self.year)\n",
        "\n",
        "S1=student(\"KRISHNA\",263)\n",
        "S1.details()\n",
        "S1.m.club_details()\n",
        "\n",
        "\n"
      ],
      "metadata": {
        "colab": {
          "base_uri": "https://localhost:8080/"
        },
        "id": "fx7YR-Me7j_a",
        "outputId": "aea6811a-c528-45de-bae4-2d1f7d48b0a0"
      },
      "execution_count": 1,
      "outputs": [
        {
          "output_type": "stream",
          "name": "stdout",
          "text": [
            "Name: KRISHNA\n",
            "Sap ID: 263\n",
            "Club: Cricket club\n",
            "Year established: 2000\n"
          ]
        }
      ]
    },
    {
      "cell_type": "markdown",
      "source": [
        "Write a program to create a rectangle class that consists of two methods or functions."
      ],
      "metadata": {
        "id": "RPqDcVnQNsUE"
      }
    },
    {
      "cell_type": "code",
      "source": [
        "class Rectangle:\n",
        "  def __init__(self,l,b):\n",
        "    self.l=l\n",
        "    self.b=b\n",
        "    self.p=self.Inner()\n",
        "  def Area(self):\n",
        "    print(\"The Area of the Rectangle is:\",self.l*self.b)\n",
        "  class Inner:\n",
        "    def __init__(self):\n",
        "      self.l=l\n",
        "      self.b=b\n",
        "    def perimeter(self):\n",
        "      print(\"The perimeter of the Rectangle is:\",2*(self.l+self.b))\n",
        "\n",
        "l=int(input(\"Enter length:\"))\n",
        "b=int(input(\"Enter breadth:\"))\n",
        "R1=Rectangle(l,b)\n",
        "R1.Area()\n",
        "R1.p.perimeter()"
      ],
      "metadata": {
        "colab": {
          "base_uri": "https://localhost:8080/"
        },
        "id": "e6ZsBrGSCm5B",
        "outputId": "ca30d585-2f5f-4d08-c29f-646802376480"
      },
      "execution_count": null,
      "outputs": [
        {
          "output_type": "stream",
          "name": "stdout",
          "text": [
            "Enter length:5\n",
            "Enter breadth:10\n",
            "The Area of the Rectangle is: 50\n",
            "The perimeter of the Rectangle is: 30\n"
          ]
        }
      ]
    }
  ]
}